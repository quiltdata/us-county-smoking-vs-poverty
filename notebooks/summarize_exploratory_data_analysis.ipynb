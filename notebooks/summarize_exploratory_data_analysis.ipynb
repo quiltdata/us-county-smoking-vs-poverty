{
 "cells": [
  {
   "cell_type": "markdown",
   "metadata": {},
   "source": [
    "# Exploratory data analysis"
   ]
  },
  {
   "cell_type": "markdown",
   "metadata": {},
   "source": [
    "Initial review of `external` and `raw` data sources, data cleansing/scrubbing, and save to `interim` for use in model.\n",
    "\n",
    "FIPS: Federal Information Processing Standards are numeric codes assigned by the National Institute of Standards and Technology (NIST). Typically, FIPS codes deal with US [states](https://en.wikipedia.org/wiki/Federal_Information_Processing_Standard_state_code) and [counties](https://en.wikipedia.org/wiki/FIPS_county_code). US states are identified by a 2-digit number, while US counties are identified by a 3-digit number. Although this standard has been _withdrawn_, it is **still widely used in geospatial datasets**."
   ]
  },
  {
   "cell_type": "markdown",
   "metadata": {},
   "source": [
    "## Import relevant libraries"
   ]
  },
  {
   "cell_type": "code",
   "execution_count": 210,
   "metadata": {},
   "outputs": [],
   "source": [
    "import json\n",
    "import t4\n",
    "import pandas as pd\n",
    "import numpy as np\n",
    "import datetime as dt"
   ]
  },
  {
   "cell_type": "markdown",
   "metadata": {},
   "source": [
    "## Import & review topology data"
   ]
  },
  {
   "cell_type": "code",
   "execution_count": 211,
   "metadata": {},
   "outputs": [],
   "source": [
    "topo_data = json.load(open(\"../data/external/us-10m.json\"))"
   ]
  },
  {
   "cell_type": "code",
   "execution_count": 212,
   "metadata": {},
   "outputs": [],
   "source": [
    "topo_df = pd.DataFrame(topo_data[\"objects\"][\"counties\"])"
   ]
  },
  {
   "cell_type": "code",
   "execution_count": 213,
   "metadata": {},
   "outputs": [
    {
     "data": {
      "text/html": [
       "<div>\n",
       "<style scoped>\n",
       "    .dataframe tbody tr th:only-of-type {\n",
       "        vertical-align: middle;\n",
       "    }\n",
       "\n",
       "    .dataframe tbody tr th {\n",
       "        vertical-align: top;\n",
       "    }\n",
       "\n",
       "    .dataframe thead th {\n",
       "        text-align: right;\n",
       "    }\n",
       "</style>\n",
       "<table border=\"1\" class=\"dataframe\">\n",
       "  <thead>\n",
       "    <tr style=\"text-align: right;\">\n",
       "      <th></th>\n",
       "      <th>type</th>\n",
       "      <th>geometries</th>\n",
       "    </tr>\n",
       "  </thead>\n",
       "  <tbody>\n",
       "    <tr>\n",
       "      <th>0</th>\n",
       "      <td>GeometryCollection</td>\n",
       "      <td>{'type': 'MultiPolygon', 'arcs': [], 'id': 22051}</td>\n",
       "    </tr>\n",
       "    <tr>\n",
       "      <th>1</th>\n",
       "      <td>GeometryCollection</td>\n",
       "      <td>{'type': None, 'id': 23023}</td>\n",
       "    </tr>\n",
       "    <tr>\n",
       "      <th>2</th>\n",
       "      <td>GeometryCollection</td>\n",
       "      <td>{'type': None, 'id': 37031}</td>\n",
       "    </tr>\n",
       "    <tr>\n",
       "      <th>3</th>\n",
       "      <td>GeometryCollection</td>\n",
       "      <td>{'type': None, 'id': 42045}</td>\n",
       "    </tr>\n",
       "    <tr>\n",
       "      <th>4</th>\n",
       "      <td>GeometryCollection</td>\n",
       "      <td>{'type': 'Polygon', 'arcs': [[0, 1, 2, 3, 4, 5...</td>\n",
       "    </tr>\n",
       "  </tbody>\n",
       "</table>\n",
       "</div>"
      ],
      "text/plain": [
       "                 type                                         geometries\n",
       "0  GeometryCollection  {'type': 'MultiPolygon', 'arcs': [], 'id': 22051}\n",
       "1  GeometryCollection                        {'type': None, 'id': 23023}\n",
       "2  GeometryCollection                        {'type': None, 'id': 37031}\n",
       "3  GeometryCollection                        {'type': None, 'id': 42045}\n",
       "4  GeometryCollection  {'type': 'Polygon', 'arcs': [[0, 1, 2, 3, 4, 5..."
      ]
     },
     "execution_count": 213,
     "metadata": {},
     "output_type": "execute_result"
    }
   ],
   "source": [
    "topo_df.head()"
   ]
  },
  {
   "cell_type": "markdown",
   "metadata": {},
   "source": [
    "### Drill down into geometry data to review FIPS format"
   ]
  },
  {
   "cell_type": "code",
   "execution_count": 214,
   "metadata": {},
   "outputs": [],
   "source": [
    "geometries = topo_df['geometries'].apply(json.dumps)"
   ]
  },
  {
   "cell_type": "code",
   "execution_count": 215,
   "metadata": {},
   "outputs": [
    {
     "data": {
      "text/plain": [
       "0    {\"type\": \"MultiPolygon\", \"arcs\": [], \"id\": 22051}\n",
       "1                          {\"type\": null, \"id\": 23023}\n",
       "2                          {\"type\": null, \"id\": 37031}\n",
       "3                          {\"type\": null, \"id\": 42045}\n",
       "4    {\"type\": \"Polygon\", \"arcs\": [[0, 1, 2, 3, 4, 5...\n",
       "5    {\"type\": \"MultiPolygon\", \"arcs\": [[[95, 96, -2...\n",
       "6    {\"type\": \"Polygon\", \"arcs\": [[98, 99, 100, 101...\n",
       "7    {\"type\": \"Polygon\", \"arcs\": [[104, 105, 106, 1...\n",
       "8    {\"type\": \"Polygon\", \"arcs\": [[114, 115, 116, 1...\n",
       "9    {\"type\": \"Polygon\", \"arcs\": [[-103, 118, 119, ...\n",
       "Name: geometries, dtype: object"
      ]
     },
     "execution_count": 215,
     "metadata": {},
     "output_type": "execute_result"
    }
   ],
   "source": [
    "geometries.head(10)"
   ]
  },
  {
   "cell_type": "markdown",
   "metadata": {},
   "source": [
    "## Import and review raw poverty, smoking & opioid data"
   ]
  },
  {
   "cell_type": "code",
   "execution_count": 238,
   "metadata": {},
   "outputs": [],
   "source": [
    "# Clean up\n",
    "df = None\n",
    "states_df = None\n",
    "counties_df = None"
   ]
  },
  {
   "cell_type": "code",
   "execution_count": 239,
   "metadata": {},
   "outputs": [],
   "source": [
    "df = pd.read_csv(\"../data/raw/poverty_smoking_opioid.csv\")"
   ]
  },
  {
   "cell_type": "code",
   "execution_count": 240,
   "metadata": {},
   "outputs": [
    {
     "data": {
      "text/html": [
       "<div>\n",
       "<style scoped>\n",
       "    .dataframe tbody tr th:only-of-type {\n",
       "        vertical-align: middle;\n",
       "    }\n",
       "\n",
       "    .dataframe tbody tr th {\n",
       "        vertical-align: top;\n",
       "    }\n",
       "\n",
       "    .dataframe thead th {\n",
       "        text-align: right;\n",
       "    }\n",
       "</style>\n",
       "<table border=\"1\" class=\"dataframe\">\n",
       "  <thead>\n",
       "    <tr style=\"text-align: right;\">\n",
       "      <th></th>\n",
       "      <th>geo_name</th>\n",
       "      <th>geo_sumlevel</th>\n",
       "      <th>geo_id</th>\n",
       "      <th>adult_smoking_2015</th>\n",
       "      <th>adult_smoking_2016</th>\n",
       "      <th>adult_smoking_2017</th>\n",
       "      <th>income_below_poverty_2013</th>\n",
       "      <th>income_below_poverty_2014</th>\n",
       "      <th>income_below_poverty_2015</th>\n",
       "      <th>income_below_poverty_2016</th>\n",
       "      <th>...</th>\n",
       "      <th>opioid_overdose_deathrate_ageadjusted_2011</th>\n",
       "      <th>opioid_overdose_deathrate_ageadjusted_2012</th>\n",
       "      <th>opioid_overdose_deathrate_ageadjusted_2013</th>\n",
       "      <th>opioid_overdose_deathrate_ageadjusted_2014</th>\n",
       "      <th>opioid_overdose_deathrate_ageadjusted_2015</th>\n",
       "      <th>opioid_overdose_deathrate_ageadjusted_2016</th>\n",
       "      <th>pop_poverty_status_2013</th>\n",
       "      <th>pop_poverty_status_2014</th>\n",
       "      <th>pop_poverty_status_2015</th>\n",
       "      <th>pop_poverty_status_2016</th>\n",
       "    </tr>\n",
       "  </thead>\n",
       "  <tbody>\n",
       "    <tr>\n",
       "      <th>0</th>\n",
       "      <td>Alabama</td>\n",
       "      <td>state</td>\n",
       "      <td>04000US01</td>\n",
       "      <td>0.219</td>\n",
       "      <td>0.211</td>\n",
       "      <td>0.214</td>\n",
       "      <td>870631.0</td>\n",
       "      <td>889710.0</td>\n",
       "      <td>887260.0</td>\n",
       "      <td>868666.0</td>\n",
       "      <td>...</td>\n",
       "      <td>3.8</td>\n",
       "      <td>3.6</td>\n",
       "      <td>3.5</td>\n",
       "      <td>5.6</td>\n",
       "      <td>6.1</td>\n",
       "      <td>7.5</td>\n",
       "      <td>4682980.0</td>\n",
       "      <td>4699510.0</td>\n",
       "      <td>4711440.0</td>\n",
       "      <td>4720590.0</td>\n",
       "    </tr>\n",
       "    <tr>\n",
       "      <th>1</th>\n",
       "      <td>Alaska</td>\n",
       "      <td>state</td>\n",
       "      <td>04000US02</td>\n",
       "      <td>0.208</td>\n",
       "      <td>0.199</td>\n",
       "      <td>0.191</td>\n",
       "      <td>69514.0</td>\n",
       "      <td>71866.0</td>\n",
       "      <td>72957.0</td>\n",
       "      <td>72826.0</td>\n",
       "      <td>...</td>\n",
       "      <td>8.7</td>\n",
       "      <td>10.8</td>\n",
       "      <td>9.2</td>\n",
       "      <td>10.6</td>\n",
       "      <td>11.0</td>\n",
       "      <td>12.5</td>\n",
       "      <td>704041.0</td>\n",
       "      <td>711235.0</td>\n",
       "      <td>716218.0</td>\n",
       "      <td>719064.0</td>\n",
       "    </tr>\n",
       "    <tr>\n",
       "      <th>2</th>\n",
       "      <td>Arizona</td>\n",
       "      <td>state</td>\n",
       "      <td>04000US04</td>\n",
       "      <td>0.166</td>\n",
       "      <td>0.165</td>\n",
       "      <td>0.140</td>\n",
       "      <td>1131900.0</td>\n",
       "      <td>1169310.0</td>\n",
       "      <td>1180690.0</td>\n",
       "      <td>1165640.0</td>\n",
       "      <td>...</td>\n",
       "      <td>8.8</td>\n",
       "      <td>8.2</td>\n",
       "      <td>8.2</td>\n",
       "      <td>8.8</td>\n",
       "      <td>10.2</td>\n",
       "      <td>11.4</td>\n",
       "      <td>6333790.0</td>\n",
       "      <td>6411350.0</td>\n",
       "      <td>6488920.0</td>\n",
       "      <td>6573520.0</td>\n",
       "    </tr>\n",
       "    <tr>\n",
       "      <th>3</th>\n",
       "      <td>Arkansas</td>\n",
       "      <td>state</td>\n",
       "      <td>04000US05</td>\n",
       "      <td>0.224</td>\n",
       "      <td>0.247</td>\n",
       "      <td>0.249</td>\n",
       "      <td>547328.0</td>\n",
       "      <td>549303.0</td>\n",
       "      <td>553644.0</td>\n",
       "      <td>542431.0</td>\n",
       "      <td>...</td>\n",
       "      <td>6.2</td>\n",
       "      <td>6.0</td>\n",
       "      <td>5.6</td>\n",
       "      <td>6.3</td>\n",
       "      <td>7.2</td>\n",
       "      <td>5.9</td>\n",
       "      <td>2849640.0</td>\n",
       "      <td>2862660.0</td>\n",
       "      <td>2872500.0</td>\n",
       "      <td>2881400.0</td>\n",
       "    </tr>\n",
       "    <tr>\n",
       "      <th>4</th>\n",
       "      <td>California</td>\n",
       "      <td>state</td>\n",
       "      <td>04000US06</td>\n",
       "      <td>0.129</td>\n",
       "      <td>0.128</td>\n",
       "      <td>0.117</td>\n",
       "      <td>5885420.0</td>\n",
       "      <td>6115240.0</td>\n",
       "      <td>6135140.0</td>\n",
       "      <td>6004260.0</td>\n",
       "      <td>...</td>\n",
       "      <td>5.0</td>\n",
       "      <td>4.4</td>\n",
       "      <td>4.9</td>\n",
       "      <td>5.0</td>\n",
       "      <td>4.9</td>\n",
       "      <td>4.9</td>\n",
       "      <td>36913400.0</td>\n",
       "      <td>37323100.0</td>\n",
       "      <td>37678700.0</td>\n",
       "      <td>37913100.0</td>\n",
       "    </tr>\n",
       "  </tbody>\n",
       "</table>\n",
       "<p>5 rows × 32 columns</p>\n",
       "</div>"
      ],
      "text/plain": [
       "     geo_name geo_sumlevel     geo_id  adult_smoking_2015  adult_smoking_2016  \\\n",
       "0     Alabama        state  04000US01               0.219               0.211   \n",
       "1      Alaska        state  04000US02               0.208               0.199   \n",
       "2     Arizona        state  04000US04               0.166               0.165   \n",
       "3    Arkansas        state  04000US05               0.224               0.247   \n",
       "4  California        state  04000US06               0.129               0.128   \n",
       "\n",
       "   adult_smoking_2017  income_below_poverty_2013  income_below_poverty_2014  \\\n",
       "0               0.214                   870631.0                   889710.0   \n",
       "1               0.191                    69514.0                    71866.0   \n",
       "2               0.140                  1131900.0                  1169310.0   \n",
       "3               0.249                   547328.0                   549303.0   \n",
       "4               0.117                  5885420.0                  6115240.0   \n",
       "\n",
       "   income_below_poverty_2015  income_below_poverty_2016  \\\n",
       "0                   887260.0                   868666.0   \n",
       "1                    72957.0                    72826.0   \n",
       "2                  1180690.0                  1165640.0   \n",
       "3                   553644.0                   542431.0   \n",
       "4                  6135140.0                  6004260.0   \n",
       "\n",
       "            ...             opioid_overdose_deathrate_ageadjusted_2011  \\\n",
       "0           ...                                                    3.8   \n",
       "1           ...                                                    8.7   \n",
       "2           ...                                                    8.8   \n",
       "3           ...                                                    6.2   \n",
       "4           ...                                                    5.0   \n",
       "\n",
       "   opioid_overdose_deathrate_ageadjusted_2012  \\\n",
       "0                                         3.6   \n",
       "1                                        10.8   \n",
       "2                                         8.2   \n",
       "3                                         6.0   \n",
       "4                                         4.4   \n",
       "\n",
       "   opioid_overdose_deathrate_ageadjusted_2013  \\\n",
       "0                                         3.5   \n",
       "1                                         9.2   \n",
       "2                                         8.2   \n",
       "3                                         5.6   \n",
       "4                                         4.9   \n",
       "\n",
       "   opioid_overdose_deathrate_ageadjusted_2014  \\\n",
       "0                                         5.6   \n",
       "1                                        10.6   \n",
       "2                                         8.8   \n",
       "3                                         6.3   \n",
       "4                                         5.0   \n",
       "\n",
       "   opioid_overdose_deathrate_ageadjusted_2015  \\\n",
       "0                                         6.1   \n",
       "1                                        11.0   \n",
       "2                                        10.2   \n",
       "3                                         7.2   \n",
       "4                                         4.9   \n",
       "\n",
       "   opioid_overdose_deathrate_ageadjusted_2016  pop_poverty_status_2013  \\\n",
       "0                                         7.5                4682980.0   \n",
       "1                                        12.5                 704041.0   \n",
       "2                                        11.4                6333790.0   \n",
       "3                                         5.9                2849640.0   \n",
       "4                                         4.9               36913400.0   \n",
       "\n",
       "   pop_poverty_status_2014  pop_poverty_status_2015  pop_poverty_status_2016  \n",
       "0                4699510.0                4711440.0                4720590.0  \n",
       "1                 711235.0                 716218.0                 719064.0  \n",
       "2                6411350.0                6488920.0                6573520.0  \n",
       "3                2862660.0                2872500.0                2881400.0  \n",
       "4               37323100.0               37678700.0               37913100.0  \n",
       "\n",
       "[5 rows x 32 columns]"
      ]
     },
     "execution_count": 240,
     "metadata": {},
     "output_type": "execute_result"
    }
   ],
   "source": [
    "df.head()"
   ]
  },
  {
   "cell_type": "code",
   "execution_count": 241,
   "metadata": {},
   "outputs": [
    {
     "data": {
      "text/plain": [
       "array(['state', 'county', nan], dtype=object)"
      ]
     },
     "execution_count": 241,
     "metadata": {},
     "output_type": "execute_result"
    }
   ],
   "source": [
    "df.geo_sumlevel.unique()"
   ]
  },
  {
   "cell_type": "markdown",
   "metadata": {},
   "source": [
    "## Data cleansing steps"
   ]
  },
  {
   "cell_type": "markdown",
   "metadata": {},
   "source": [
    "### 1. Generate FIPS `id` code from `geo_id` field"
   ]
  },
  {
   "cell_type": "code",
   "execution_count": 242,
   "metadata": {},
   "outputs": [],
   "source": [
    "# Generate FIPS code\n",
    "f = lambda x: x[\"geo_id\"].split(\"US\")[1]\n",
    "df.loc[:, 'id'] = df.apply(f, axis=1)"
   ]
  },
  {
   "cell_type": "markdown",
   "metadata": {},
   "source": [
    "### 2. Save state-grain data to JSON file"
   ]
  },
  {
   "cell_type": "code",
   "execution_count": 243,
   "metadata": {},
   "outputs": [],
   "source": [
    "states_df = df.loc[df[\"geo_sumlevel\"] == \"state\", :].copy()"
   ]
  },
  {
   "cell_type": "code",
   "execution_count": 244,
   "metadata": {},
   "outputs": [],
   "source": [
    "states_df.to_json(\n",
    "    \"../data/interim/states_opioid.json\",\n",
    "    orient='records'\n",
    ")"
   ]
  },
  {
   "cell_type": "markdown",
   "metadata": {},
   "source": [
    "### 3. Subset dataset to county-grain"
   ]
  },
  {
   "cell_type": "code",
   "execution_count": 245,
   "metadata": {},
   "outputs": [],
   "source": [
    "counties_df = df.loc[df.geo_sumlevel == \"county\", :].copy()"
   ]
  },
  {
   "cell_type": "markdown",
   "metadata": {},
   "source": [
    "### 4. Ensure county FIPS `id` code is an integer and not a float"
   ]
  },
  {
   "cell_type": "code",
   "execution_count": 246,
   "metadata": {},
   "outputs": [],
   "source": [
    "f_int = lambda x: int(x[\"id\"])\n",
    "counties_df.loc[:, 'id'] = counties_df.apply(f_int, axis=1)"
   ]
  },
  {
   "cell_type": "markdown",
   "metadata": {},
   "source": [
    "### 5. Generate state value from `geo_name` field"
   ]
  },
  {
   "cell_type": "code",
   "execution_count": 247,
   "metadata": {},
   "outputs": [],
   "source": [
    "# Generate state code\n",
    "f_state = lambda x: x[\"geo_name\"].split(\", \")[1]\n",
    "counties_df.loc[:, 'state'] = counties_df.apply(f_state, axis=1)"
   ]
  },
  {
   "cell_type": "markdown",
   "metadata": {},
   "source": [
    "### 6. Drop columns with NaNs"
   ]
  },
  {
   "cell_type": "code",
   "execution_count": 248,
   "metadata": {},
   "outputs": [],
   "source": [
    "counties_df.dropna(\n",
    "    axis='columns',\n",
    "    how='all',\n",
    "    inplace=True\n",
    ")"
   ]
  },
  {
   "cell_type": "markdown",
   "metadata": {},
   "source": [
    "### 7. Generate percent totals for 2015 & 2016"
   ]
  },
  {
   "cell_type": "code",
   "execution_count": 249,
   "metadata": {},
   "outputs": [],
   "source": [
    "f_percent_2015 = lambda x: x[\"income_below_poverty_2015\"] / x[\"pop_poverty_status_2015\"]\n",
    "counties_df[\"population_in_poverty_percent_2015\"] = counties_df.apply(f_percent_2015, axis=1)"
   ]
  },
  {
   "cell_type": "code",
   "execution_count": 250,
   "metadata": {},
   "outputs": [],
   "source": [
    "f_percent_2016 = lambda x: x[\"income_below_poverty_2016\"] / x[\"pop_poverty_status_2016\"]\n",
    "counties_df[\"population_in_poverty_percent_2016\"] = counties_df.apply(f_percent_2016, axis=1)"
   ]
  },
  {
   "cell_type": "markdown",
   "metadata": {},
   "source": [
    "### 8. Drop unused columns"
   ]
  },
  {
   "cell_type": "code",
   "execution_count": 251,
   "metadata": {},
   "outputs": [],
   "source": [
    "counties_df.drop(\n",
    "    [\n",
    "        'geo_sumlevel',\n",
    "        'geo_id',\n",
    "        'adult_smoking_2017',\n",
    "        'income_below_poverty_2013',\n",
    "        'income_below_poverty_2014',\n",
    "        \"income_below_poverty_2015\",\n",
    "        \"income_below_poverty_2016\",\n",
    "        'pop_poverty_status_2013',\n",
    "        'pop_poverty_status_2014',\n",
    "        \"pop_poverty_status_2015\",\n",
    "        \"pop_poverty_status_2016\"\n",
    "    ],\n",
    "    axis=1,\n",
    "    inplace=True\n",
    ")"
   ]
  },
  {
   "cell_type": "markdown",
   "metadata": {},
   "source": [
    "### 9. Rename columns for clarity "
   ]
  },
  {
   "cell_type": "code",
   "execution_count": 252,
   "metadata": {},
   "outputs": [],
   "source": [
    "counties_df.rename(\n",
    "    index=str,\n",
    "    columns={\n",
    "        \"adult_smoking_2015\": \"smoking_2015\",\n",
    "        \"adult_smoking_2016\": \"smoking_2016\",\n",
    "        \"population_in_poverty_percent_2015\": \"poverty_2015\",\n",
    "        \"population_in_poverty_percent_2016\": \"poverty_2016\"\n",
    "    },\n",
    "    inplace=True\n",
    ")"
   ]
  },
  {
   "cell_type": "markdown",
   "metadata": {},
   "source": [
    "## Review data\n",
    "\n",
    "Useful for setting scales in Vega specifications."
   ]
  },
  {
   "cell_type": "code",
   "execution_count": 253,
   "metadata": {},
   "outputs": [
    {
     "data": {
      "text/html": [
       "<div>\n",
       "<style scoped>\n",
       "    .dataframe tbody tr th:only-of-type {\n",
       "        vertical-align: middle;\n",
       "    }\n",
       "\n",
       "    .dataframe tbody tr th {\n",
       "        vertical-align: top;\n",
       "    }\n",
       "\n",
       "    .dataframe thead th {\n",
       "        text-align: right;\n",
       "    }\n",
       "</style>\n",
       "<table border=\"1\" class=\"dataframe\">\n",
       "  <thead>\n",
       "    <tr style=\"text-align: right;\">\n",
       "      <th></th>\n",
       "      <th>geo_name</th>\n",
       "      <th>smoking_2015</th>\n",
       "      <th>smoking_2016</th>\n",
       "      <th>id</th>\n",
       "      <th>state</th>\n",
       "      <th>poverty_2015</th>\n",
       "      <th>poverty_2016</th>\n",
       "    </tr>\n",
       "  </thead>\n",
       "  <tbody>\n",
       "    <tr>\n",
       "      <th>52</th>\n",
       "      <td>Autauga County, AL</td>\n",
       "      <td>0.217</td>\n",
       "      <td>0.187</td>\n",
       "      <td>1001</td>\n",
       "      <td>AL</td>\n",
       "      <td>0.128794</td>\n",
       "      <td>0.122660</td>\n",
       "    </tr>\n",
       "    <tr>\n",
       "      <th>53</th>\n",
       "      <td>Baldwin County, AL</td>\n",
       "      <td>0.206</td>\n",
       "      <td>0.186</td>\n",
       "      <td>1003</td>\n",
       "      <td>AL</td>\n",
       "      <td>0.134117</td>\n",
       "      <td>0.129938</td>\n",
       "    </tr>\n",
       "    <tr>\n",
       "      <th>54</th>\n",
       "      <td>Barbour County, AL</td>\n",
       "      <td>0.251</td>\n",
       "      <td>0.214</td>\n",
       "      <td>1005</td>\n",
       "      <td>AL</td>\n",
       "      <td>0.267274</td>\n",
       "      <td>0.263737</td>\n",
       "    </tr>\n",
       "    <tr>\n",
       "      <th>55</th>\n",
       "      <td>Bibb County, AL</td>\n",
       "      <td>0.259</td>\n",
       "      <td>0.210</td>\n",
       "      <td>1007</td>\n",
       "      <td>AL</td>\n",
       "      <td>0.167959</td>\n",
       "      <td>0.164539</td>\n",
       "    </tr>\n",
       "    <tr>\n",
       "      <th>56</th>\n",
       "      <td>Blount County, AL</td>\n",
       "      <td>0.213</td>\n",
       "      <td>0.194</td>\n",
       "      <td>1009</td>\n",
       "      <td>AL</td>\n",
       "      <td>0.167209</td>\n",
       "      <td>0.165344</td>\n",
       "    </tr>\n",
       "  </tbody>\n",
       "</table>\n",
       "</div>"
      ],
      "text/plain": [
       "              geo_name  smoking_2015  smoking_2016    id state  poverty_2015  \\\n",
       "52  Autauga County, AL         0.217         0.187  1001    AL      0.128794   \n",
       "53  Baldwin County, AL         0.206         0.186  1003    AL      0.134117   \n",
       "54  Barbour County, AL         0.251         0.214  1005    AL      0.267274   \n",
       "55     Bibb County, AL         0.259         0.210  1007    AL      0.167959   \n",
       "56   Blount County, AL         0.213         0.194  1009    AL      0.167209   \n",
       "\n",
       "    poverty_2016  \n",
       "52      0.122660  \n",
       "53      0.129938  \n",
       "54      0.263737  \n",
       "55      0.164539  \n",
       "56      0.165344  "
      ]
     },
     "execution_count": 253,
     "metadata": {},
     "output_type": "execute_result"
    }
   ],
   "source": [
    "counties_df.head()"
   ]
  },
  {
   "cell_type": "code",
   "execution_count": 254,
   "metadata": {},
   "outputs": [
    {
     "data": {
      "text/html": [
       "<div>\n",
       "<style scoped>\n",
       "    .dataframe tbody tr th:only-of-type {\n",
       "        vertical-align: middle;\n",
       "    }\n",
       "\n",
       "    .dataframe tbody tr th {\n",
       "        vertical-align: top;\n",
       "    }\n",
       "\n",
       "    .dataframe thead th {\n",
       "        text-align: right;\n",
       "    }\n",
       "</style>\n",
       "<table border=\"1\" class=\"dataframe\">\n",
       "  <thead>\n",
       "    <tr style=\"text-align: right;\">\n",
       "      <th></th>\n",
       "      <th>smoking_2015</th>\n",
       "      <th>smoking_2016</th>\n",
       "      <th>id</th>\n",
       "      <th>poverty_2015</th>\n",
       "      <th>poverty_2016</th>\n",
       "    </tr>\n",
       "  </thead>\n",
       "  <tbody>\n",
       "    <tr>\n",
       "      <th>count</th>\n",
       "      <td>2708.000000</td>\n",
       "      <td>3137.000000</td>\n",
       "      <td>3223.000000</td>\n",
       "      <td>3220.000000</td>\n",
       "      <td>3220.000000</td>\n",
       "    </tr>\n",
       "    <tr>\n",
       "      <th>mean</th>\n",
       "      <td>0.212777</td>\n",
       "      <td>0.183957</td>\n",
       "      <td>31395.379150</td>\n",
       "      <td>0.174926</td>\n",
       "      <td>0.171960</td>\n",
       "    </tr>\n",
       "    <tr>\n",
       "      <th>std</th>\n",
       "      <td>0.063144</td>\n",
       "      <td>0.037886</td>\n",
       "      <td>16298.491965</td>\n",
       "      <td>0.083184</td>\n",
       "      <td>0.082883</td>\n",
       "    </tr>\n",
       "    <tr>\n",
       "      <th>min</th>\n",
       "      <td>0.031000</td>\n",
       "      <td>0.069000</td>\n",
       "      <td>1001.000000</td>\n",
       "      <td>0.014245</td>\n",
       "      <td>0.018104</td>\n",
       "    </tr>\n",
       "    <tr>\n",
       "      <th>25%</th>\n",
       "      <td>0.170000</td>\n",
       "      <td>0.157000</td>\n",
       "      <td>19032.000000</td>\n",
       "      <td>0.121000</td>\n",
       "      <td>0.118344</td>\n",
       "    </tr>\n",
       "    <tr>\n",
       "      <th>50%</th>\n",
       "      <td>0.208000</td>\n",
       "      <td>0.178000</td>\n",
       "      <td>30025.000000</td>\n",
       "      <td>0.161547</td>\n",
       "      <td>0.158750</td>\n",
       "    </tr>\n",
       "    <tr>\n",
       "      <th>75%</th>\n",
       "      <td>0.249000</td>\n",
       "      <td>0.207000</td>\n",
       "      <td>46108.000000</td>\n",
       "      <td>0.206637</td>\n",
       "      <td>0.203294</td>\n",
       "    </tr>\n",
       "    <tr>\n",
       "      <th>max</th>\n",
       "      <td>0.511000</td>\n",
       "      <td>0.412000</td>\n",
       "      <td>72153.000000</td>\n",
       "      <td>0.641964</td>\n",
       "      <td>0.637711</td>\n",
       "    </tr>\n",
       "  </tbody>\n",
       "</table>\n",
       "</div>"
      ],
      "text/plain": [
       "       smoking_2015  smoking_2016            id  poverty_2015  poverty_2016\n",
       "count   2708.000000   3137.000000   3223.000000   3220.000000   3220.000000\n",
       "mean       0.212777      0.183957  31395.379150      0.174926      0.171960\n",
       "std        0.063144      0.037886  16298.491965      0.083184      0.082883\n",
       "min        0.031000      0.069000   1001.000000      0.014245      0.018104\n",
       "25%        0.170000      0.157000  19032.000000      0.121000      0.118344\n",
       "50%        0.208000      0.178000  30025.000000      0.161547      0.158750\n",
       "75%        0.249000      0.207000  46108.000000      0.206637      0.203294\n",
       "max        0.511000      0.412000  72153.000000      0.641964      0.637711"
      ]
     },
     "execution_count": 254,
     "metadata": {},
     "output_type": "execute_result"
    }
   ],
   "source": [
    "counties_df.describe()"
   ]
  },
  {
   "cell_type": "markdown",
   "metadata": {},
   "source": [
    "## Save scrubbed data to CSV file"
   ]
  },
  {
   "cell_type": "code",
   "execution_count": 255,
   "metadata": {},
   "outputs": [],
   "source": [
    "counties_df.to_csv(\n",
    "    \"../data/interim/counties_smoking_poverty_2015-2016.csv\",\n",
    "    index=False\n",
    ")"
   ]
  },
  {
   "cell_type": "markdown",
   "metadata": {},
   "source": [
    "## Instantiate local T4 package, add data, & build"
   ]
  },
  {
   "cell_type": "code",
   "execution_count": 51,
   "metadata": {},
   "outputs": [],
   "source": [
    "p = t4.Package()"
   ]
  },
  {
   "cell_type": "code",
   "execution_count": 256,
   "metadata": {},
   "outputs": [],
   "source": [
    "# Add generated cleansed/scrubbed dataset\n",
    "p = p.set(\n",
    "    \"data/interim/counties_smoking_poverty_2015-2016.csv\",\n",
    "    \"../data/interim/counties_smoking_poverty_2015-2016.csv\",\n",
    "    meta=dict(\n",
    "        data_source=\"DataUSA\",\n",
    "        data_source_url=\"https://datausa.io\",\n",
    "        data_source_description=\"County-level smoking and \\\n",
    "        poverty data from 2015 and 2016\",\n",
    "        last_updated=str(dt.datetime.now()),\n",
    "        uploaded_by=\"robnewman\",\n",
    "        project=\"us-county-smoking-poverty-2015-2016\",\n",
    "        filetype=\"csv\"\n",
    "    )\n",
    ")"
   ]
  },
  {
   "cell_type": "code",
   "execution_count": 182,
   "metadata": {},
   "outputs": [],
   "source": [
    "# Add US topology dataset for Vega specification\n",
    "p = p.set(\n",
    "    \"data/external/us-10m.json\",\n",
    "    \"../data/external/us-10m.json\",\n",
    "    meta=dict(\n",
    "        data_source=\"TopoJSON\",\n",
    "        data_source_url=\"https://github.com/topojson/us-atlas\",\n",
    "        data_source_description=\"Pre-built TopoJSON from the U.S. Census Bureau\",\n",
    "        last_updated=str(dt.datetime.now()),\n",
    "        uploaded_by=\"robnewman\",\n",
    "        project=\"us-county-smoking-poverty-2015-2016\",\n",
    "        filetype=\"json\"\n",
    "    )\n",
    ")"
   ]
  },
  {
   "cell_type": "code",
   "execution_count": 314,
   "metadata": {},
   "outputs": [],
   "source": [
    "# Remove unused Vega specification file\n",
    "p = p.delete(\"src/visualization/vega_specs/states.json\")"
   ]
  },
  {
   "cell_type": "code",
   "execution_count": 201,
   "metadata": {},
   "outputs": [],
   "source": [
    "# Vega specification file for poverty 2015\n",
    "p = p.set(\n",
    "    \"src/visualization/vega_specs/us-county-poverty-2015.json\",\n",
    "    \"../src/visualization/vega_specs/us-county-poverty-2015.json\",\n",
    "    meta=dict(\n",
    "        description=\"Vega specification of US county percent population in poverty in 2015\",\n",
    "        last_updated=str(dt.datetime.now()),\n",
    "        uploaded_by=\"robnewman\",\n",
    "        project=\"us-county-smoking-poverty-2015-2016\",\n",
    "        filetype=\"json\"\n",
    "    )\n",
    ")"
   ]
  },
  {
   "cell_type": "code",
   "execution_count": 196,
   "metadata": {},
   "outputs": [],
   "source": [
    "# Vega specification file for smoking 2015\n",
    "p = p.set(\n",
    "    \"src/visualization/vega_specs/us-county-smoking-2015.json\",\n",
    "    \"../src/visualization/vega_specs/us-county-smoking-2015.json\",\n",
    "    meta=dict(\n",
    "        description=\"Vega specification of US county percent population smoking in 2015\",\n",
    "        last_updated=str(dt.datetime.now()),\n",
    "        uploaded_by=\"robnewman\",\n",
    "        project=\"us-county-smoking-poverty-2015-2016\",\n",
    "        filetype=\"json\"\n",
    "    )\n",
    ")"
   ]
  },
  {
   "cell_type": "code",
   "execution_count": 346,
   "metadata": {},
   "outputs": [],
   "source": [
    "# Vega specification for interactive scatter plot of 2015 smoking vs. population\n",
    "p = p.set(\n",
    "    \"src/visualization/vega_specs/us-county-poverty-vs-smoking-2015.json\",\n",
    "    \"../src/visualization/vega_specs/us-county-poverty-vs-smoking-2015.json\",\n",
    "    meta=dict(\n",
    "        description=\"Vega interactive scatterplot specification \\\n",
    "        of US county percent population smoking vs poverty in 2015\",\n",
    "        last_updated=str(dt.datetime.now()),\n",
    "        uploaded_by=\"robnewman\",\n",
    "        project=\"us-county-smoking-poverty-2015-2016\",\n",
    "        filetype=\"json\"\n",
    "    )\n",
    ")"
   ]
  },
  {
   "cell_type": "code",
   "execution_count": 325,
   "metadata": {},
   "outputs": [],
   "source": [
    "# Add our project description markdown file\n",
    "p = p.set(\n",
    "    \"description.md\",\n",
    "    \"../description.md\",\n",
    "    meta=dict(\n",
    "        description=\"Markdown (.md) file \\\n",
    "        to describe project\",\n",
    "        last_updated=str(dt.datetime.now()),\n",
    "        uploaded_by=\"robnewman\",\n",
    "        project=\"us-county-smoking-poverty-2015-2016\",\n",
    "        filetype=\"md\"\n",
    "    )\n",
    ")"
   ]
  },
  {
   "cell_type": "code",
   "execution_count": 316,
   "metadata": {},
   "outputs": [],
   "source": [
    "# Add EDA notebook\n",
    "p = p.set(\n",
    "    \"notebooks/summarize_exploratory_data_analysis.ipynb\",\n",
    "    \"summarize_exploratory_data_analysis.ipynb\",\n",
    "    meta=dict(\n",
    "        description=\"Exploratory data analysis notebook\",\n",
    "        last_updated=str(dt.datetime.now()),\n",
    "        uploaded_by=\"robnewman\",\n",
    "        project=\"us-county-smoking-poverty-2015-2016\",\n",
    "        filetype=\"ipynb\"\n",
    "    )\n",
    "\n",
    ")"
   ]
  },
  {
   "cell_type": "code",
   "execution_count": 317,
   "metadata": {},
   "outputs": [],
   "source": [
    "# Add Quilt summarize file\n",
    "p = p.set(\n",
    "    \"quilt_summarize.json\",\n",
    "    \"../quilt_summarize.json\",\n",
    "    meta=dict(\n",
    "        description=\"Quilt summarize file \\\n",
    "        for auto-visualization of datasets\",\n",
    "        last_updated=str(dt.datetime.now()),\n",
    "        uploaded_by=\"robnewman\",\n",
    "        project=\"us-county-smoking-poverty-2015-2016\",\n",
    "        filetype=\"json\"\n",
    "    )\n",
    "\n",
    ")"
   ]
  },
  {
   "cell_type": "code",
   "execution_count": 347,
   "metadata": {},
   "outputs": [
    {
     "data": {
      "application/vnd.jupyter.widget-view+json": {
       "model_id": "4ab571fd76d34508b14f3aae9e5d873c",
       "version_major": 2,
       "version_minor": 0
      },
      "text/plain": [
       "HBox(children=(IntProgress(value=0, max=2406), HTML(value='')))"
      ]
     },
     "metadata": {},
     "output_type": "display_data"
    },
    {
     "name": "stdout",
     "output_type": "stream",
     "text": [
      "\n"
     ]
    }
   ],
   "source": [
    "tophash = p.build(\"robnewman/us-county-smoking-vs-poverty\")"
   ]
  },
  {
   "cell_type": "code",
   "execution_count": 348,
   "metadata": {},
   "outputs": [
    {
     "data": {
      "text/plain": [
       "'1f444fefa7dc7fcf8148059fb530b4c1ba85b71368b3bd50b968e97a97ce3f33'"
      ]
     },
     "execution_count": 348,
     "metadata": {},
     "output_type": "execute_result"
    }
   ],
   "source": [
    "# Successfully built package\n",
    "tophash"
   ]
  },
  {
   "cell_type": "code",
   "execution_count": 349,
   "metadata": {},
   "outputs": [
    {
     "data": {
      "application/vnd.jupyter.widget-view+json": {
       "model_id": "37d5a159d9d14d34a0f2f440aae378e0",
       "version_major": 2,
       "version_minor": 0
      },
      "text/plain": [
       "HBox(children=(IntProgress(value=0, max=642361), HTML(value='')))"
      ]
     },
     "metadata": {},
     "output_type": "display_data"
    },
    {
     "name": "stdout",
     "output_type": "stream",
     "text": [
      "\n"
     ]
    },
    {
     "data": {
      "application/vnd.jupyter.widget-view+json": {
       "model_id": "98265ece612c49068a21c92d07ee9983",
       "version_major": 2,
       "version_minor": 0
      },
      "text/plain": [
       "HBox(children=(IntProgress(value=0, max=278630), HTML(value='')))"
      ]
     },
     "metadata": {},
     "output_type": "display_data"
    },
    {
     "name": "stdout",
     "output_type": "stream",
     "text": [
      "\n"
     ]
    },
    {
     "data": {
      "application/vnd.jupyter.widget-view+json": {
       "model_id": "a828cccb58584123b690131f0bed8c63",
       "version_major": 2,
       "version_minor": 0
      },
      "text/plain": [
       "HBox(children=(IntProgress(value=0, max=1941), HTML(value='')))"
      ]
     },
     "metadata": {},
     "output_type": "display_data"
    },
    {
     "name": "stdout",
     "output_type": "stream",
     "text": [
      "\n"
     ]
    },
    {
     "data": {
      "application/vnd.jupyter.widget-view+json": {
       "model_id": "ca75c50bf125441ab2c59569ba141162",
       "version_major": 2,
       "version_minor": 0
      },
      "text/plain": [
       "HBox(children=(IntProgress(value=0, max=42511), HTML(value='')))"
      ]
     },
     "metadata": {},
     "output_type": "display_data"
    },
    {
     "name": "stdout",
     "output_type": "stream",
     "text": [
      "\n"
     ]
    },
    {
     "data": {
      "application/vnd.jupyter.widget-view+json": {
       "model_id": "e8413ad3f0214008af65fa4c93ad3f4e",
       "version_major": 2,
       "version_minor": 0
      },
      "text/plain": [
       "HBox(children=(IntProgress(value=0, max=277), HTML(value='')))"
      ]
     },
     "metadata": {},
     "output_type": "display_data"
    },
    {
     "name": "stdout",
     "output_type": "stream",
     "text": [
      "\n"
     ]
    },
    {
     "data": {
      "application/vnd.jupyter.widget-view+json": {
       "model_id": "693f8d923adb42d38f1b85b4528a9098",
       "version_major": 2,
       "version_minor": 0
      },
      "text/plain": [
       "HBox(children=(IntProgress(value=0, max=2535), HTML(value='')))"
      ]
     },
     "metadata": {},
     "output_type": "display_data"
    },
    {
     "name": "stdout",
     "output_type": "stream",
     "text": [
      "\n"
     ]
    },
    {
     "data": {
      "application/vnd.jupyter.widget-view+json": {
       "model_id": "bd19c34a31a246e288e50aefe6bfd808",
       "version_major": 2,
       "version_minor": 0
      },
      "text/plain": [
       "HBox(children=(IntProgress(value=0, max=2406), HTML(value='')))"
      ]
     },
     "metadata": {},
     "output_type": "display_data"
    },
    {
     "name": "stdout",
     "output_type": "stream",
     "text": [
      "\n"
     ]
    },
    {
     "data": {
      "application/vnd.jupyter.widget-view+json": {
       "model_id": "d4d896bf70e546afa3c59b4240a617b6",
       "version_major": 2,
       "version_minor": 0
      },
      "text/plain": [
       "HBox(children=(IntProgress(value=0, max=2534), HTML(value='')))"
      ]
     },
     "metadata": {},
     "output_type": "display_data"
    },
    {
     "name": "stdout",
     "output_type": "stream",
     "text": [
      "\n"
     ]
    },
    {
     "data": {
      "text/plain": [
       "data/\n",
       "  external/\n",
       "    us-10m.json\n",
       "  interim/\n",
       "    counties_smoking_poverty_2015-2016.csv\n",
       "description.md\n",
       "notebooks/\n",
       "  summarize_exploratory_data_analysis.ipynb\n",
       "quilt_summarize.json\n",
       "src/\n",
       "  visualization/\n",
       "    vega_specs/\n",
       "      us-county-poverty-2015.json\n",
       "      us-county-poverty-vs-smoking-2015.json\n",
       "      us-county-smoking-2015.json"
      ]
     },
     "execution_count": 349,
     "metadata": {},
     "output_type": "execute_result"
    }
   ],
   "source": [
    "p.push(\n",
    "    \"robnewman/us-county-smoking-vs-poverty\",\n",
    "    \"s3://alpha-quilt-storage/us-county-smoking-vs-poverty\"\n",
    ")"
   ]
  },
  {
   "cell_type": "code",
   "execution_count": null,
   "metadata": {},
   "outputs": [],
   "source": []
  }
 ],
 "metadata": {
  "kernelspec": {
   "display_name": "quilt-summarize-py3",
   "language": "python",
   "name": "quilt-summarize-py3"
  },
  "language_info": {
   "codemirror_mode": {
    "name": "ipython",
    "version": 3
   },
   "file_extension": ".py",
   "mimetype": "text/x-python",
   "name": "python",
   "nbconvert_exporter": "python",
   "pygments_lexer": "ipython3",
   "version": "3.6.5"
  }
 },
 "nbformat": 4,
 "nbformat_minor": 2
}
